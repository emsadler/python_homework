{
 "cells": [
  {
   "cell_type": "code",
   "execution_count": 53,
   "id": "5f60d14f-c663-4c5d-ad82-2ef4d71c506f",
   "metadata": {},
   "outputs": [],
   "source": [
    "import numpy as np"
   ]
  },
  {
   "cell_type": "code",
   "execution_count": 204,
   "id": "d7a9c938-2dae-44bc-9ef0-601e41a37998",
   "metadata": {},
   "outputs": [
    {
     "name": "stdout",
     "output_type": "stream",
     "text": [
      "[5 7 9]\n",
      "[7 7 7]\n"
     ]
    }
   ],
   "source": [
    "#1\n",
    "arr = np.array([[1, 2, 3], [5, 7, 9], [2, 4, 6], [7, 7, 7]])\n",
    "def only0dd(arr):\n",
    "    for row in range(len(arr)):\n",
    "        if np.sum(arr[row] %2) == 3:\n",
    "            print(arr[row])\n",
    "only0dd(arr)"
   ]
  },
  {
   "cell_type": "code",
   "execution_count": 205,
   "id": "d8768795-3abc-4871-bd27-50e5373bde7a",
   "metadata": {},
   "outputs": [
    {
     "name": "stdout",
     "output_type": "stream",
     "text": [
      "[[0. 0. 0. 0. 0. 0. 0. 0.]\n",
      " [0. 0. 0. 0. 0. 0. 0. 0.]\n",
      " [0. 0. 0. 0. 0. 0. 0. 0.]\n",
      " [0. 0. 0. 0. 0. 0. 0. 0.]\n",
      " [0. 0. 0. 0. 0. 0. 0. 0.]\n",
      " [0. 0. 0. 0. 0. 0. 0. 0.]\n",
      " [0. 0. 0. 0. 0. 0. 0. 0.]\n",
      " [0. 0. 0. 0. 0. 0. 0. 0.]]\n"
     ]
    }
   ],
   "source": [
    "#2.1\n",
    "checkerboard = np.zeros((8, 8))\n",
    "print(checkerboard)"
   ]
  },
  {
   "cell_type": "code",
   "execution_count": 206,
   "id": "b4998276-0e9d-4e85-abeb-2dffa91e4e0a",
   "metadata": {},
   "outputs": [
    {
     "name": "stdout",
     "output_type": "stream",
     "text": [
      "[[1. 0. 1. 0. 1. 0. 1. 0.]\n",
      " [0. 0. 0. 0. 0. 0. 0. 0.]\n",
      " [1. 0. 1. 0. 1. 0. 1. 0.]\n",
      " [0. 0. 0. 0. 0. 0. 0. 0.]\n",
      " [1. 0. 1. 0. 1. 0. 1. 0.]\n",
      " [0. 0. 0. 0. 0. 0. 0. 0.]\n",
      " [1. 0. 1. 0. 1. 0. 1. 0.]\n",
      " [0. 0. 0. 0. 0. 0. 0. 0.]]\n"
     ]
    }
   ],
   "source": [
    "#2.2\n",
    "checkerboard[0::2, 0::2] = \"1\"\n",
    "print(checkerboard)"
   ]
  },
  {
   "cell_type": "code",
   "execution_count": 207,
   "id": "9eb27647-b58e-4d45-8e93-2f43879b6b99",
   "metadata": {},
   "outputs": [
    {
     "name": "stdout",
     "output_type": "stream",
     "text": [
      "[[1. 0. 1. 0. 1. 0. 1. 0.]\n",
      " [0. 1. 0. 1. 0. 1. 0. 1.]\n",
      " [1. 0. 1. 0. 1. 0. 1. 0.]\n",
      " [0. 1. 0. 1. 0. 1. 0. 1.]\n",
      " [1. 0. 1. 0. 1. 0. 1. 0.]\n",
      " [0. 1. 0. 1. 0. 1. 0. 1.]\n",
      " [1. 0. 1. 0. 1. 0. 1. 0.]\n",
      " [0. 1. 0. 1. 0. 1. 0. 1.]]\n"
     ]
    }
   ],
   "source": [
    "#2.3\n",
    "checkerboard[1::2, 1::2] = \"1\"\n",
    "print(checkerboard)"
   ]
  },
  {
   "cell_type": "code",
   "execution_count": 208,
   "id": "0516b9f8-6d84-4673-8b0c-5303d800c01a",
   "metadata": {},
   "outputs": [
    {
     "name": "stdout",
     "output_type": "stream",
     "text": [
      "[[0. 1. 0. 1. 0. 1. 0. 1.]\n",
      " [1. 0. 1. 0. 1. 0. 1. 0.]\n",
      " [0. 1. 0. 1. 0. 1. 0. 1.]\n",
      " [1. 0. 1. 0. 1. 0. 1. 0.]\n",
      " [0. 1. 0. 1. 0. 1. 0. 1.]\n",
      " [1. 0. 1. 0. 1. 0. 1. 0.]\n",
      " [0. 1. 0. 1. 0. 1. 0. 1.]\n",
      " [1. 0. 1. 0. 1. 0. 1. 0.]]\n"
     ]
    }
   ],
   "source": [
    "#2.4\n",
    "checkerboard_flipped = np.zeros((8,8))\n",
    "checkerboard_flipped[0::2, 1::2] = \"1\"\n",
    "checkerboard_flipped[1::2, 0::2] = \"1\"\n",
    "print(checkerboard_flipped)"
   ]
  },
  {
   "cell_type": "code",
   "execution_count": 209,
   "id": "364c9184-9d10-417d-848d-16258dfcaf18",
   "metadata": {},
   "outputs": [
    {
     "name": "stdout",
     "output_type": "stream",
     "text": [
      "['g      a      l      a      x      y', 'c      l      u      s      t      e      r      s']\n"
     ]
    }
   ],
   "source": [
    "#3\n",
    "def expansion(array, x):\n",
    "    universe = np.array([\"galaxy\", \"clusters\"])\n",
    "    space = x*' '\n",
    "    new_universe = []\n",
    "    for word in universe:\n",
    "        new_word = (list(word))\n",
    "        new_word = (space.join(list(word)))\n",
    "        new_universe.append(new_word)\n",
    "    return new_universe\n",
    "print(expansion(universe, 6))"
   ]
  },
  {
   "cell_type": "code",
   "execution_count": 210,
   "id": "3299df3c-fd68-486a-a7c1-37d767737d7a",
   "metadata": {},
   "outputs": [
    {
     "name": "stdout",
     "output_type": "stream",
     "text": [
      "[[745 579 374 368 513]\n",
      " [122 411 532 712 970]\n",
      " [404 472 936 576 177]\n",
      " [603 858 336 294 616]\n",
      " [703 632 261 273 993]]\n",
      "second_largest = [703, 632, 532, 576, 970]\n"
     ]
    }
   ],
   "source": [
    "def second_largest():\n",
    "    planets = np.random.randint(100, 1000, (5, 5))\n",
    "    print(planets)\n",
    "    \n",
    "    second_max = []\n",
    "    \n",
    "    for i in range(planets.shape[1]):\n",
    "        column = planets[:, i]\n",
    "        sorted_column = sorted(list(column))[::-1]\n",
    "        for num in column:\n",
    "            second = sorted_column[1]\n",
    "        second_max.append(second)\n",
    "    return second_max\n",
    "print(\"second_largest =\", second_largest())"
   ]
  },
  {
   "cell_type": "code",
   "execution_count": null,
   "id": "44f68066-fd9c-46d4-a2fc-8f67f32ea379",
   "metadata": {},
   "outputs": [],
   "source": []
  }
 ],
 "metadata": {
  "kernelspec": {
   "display_name": "Python 3 (ipykernel)",
   "language": "python",
   "name": "python3"
  },
  "language_info": {
   "codemirror_mode": {
    "name": "ipython",
    "version": 3
   },
   "file_extension": ".py",
   "mimetype": "text/x-python",
   "name": "python",
   "nbconvert_exporter": "python",
   "pygments_lexer": "ipython3",
   "version": "3.12.4"
  }
 },
 "nbformat": 4,
 "nbformat_minor": 5
}
